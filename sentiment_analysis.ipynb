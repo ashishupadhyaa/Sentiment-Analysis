{
  "nbformat": 4,
  "nbformat_minor": 0,
  "metadata": {
    "accelerator": "GPU",
    "colab": {
      "name": "sentiment_analysis.ipynb",
      "provenance": [],
      "collapsed_sections": []
    },
    "kernelspec": {
      "display_name": "Python 3",
      "name": "python3"
    },
    "language_info": {
      "name": "python"
    }
  },
  "cells": [
    {
      "cell_type": "code",
      "metadata": {
        "colab": {
          "base_uri": "https://localhost:8080/"
        },
        "id": "EnTmtPCooCEg",
        "outputId": "e1c3f607-d43a-490b-e6b6-fceaee5be64b"
      },
      "source": [
        "from google.colab import drive\n",
        "drive.mount('/content/drive')"
      ],
      "execution_count": null,
      "outputs": [
        {
          "output_type": "stream",
          "text": [
            "Mounted at /content/drive\n"
          ],
          "name": "stdout"
        }
      ]
    },
    {
      "cell_type": "code",
      "metadata": {
        "id": "Ui0FMwklosnl"
      },
      "source": [
        "!unzip drive/MyDrive/sentiment_data.zip"
      ],
      "execution_count": null,
      "outputs": []
    },
    {
      "cell_type": "code",
      "metadata": {
        "id": "Ra4gD2Xg_hj2"
      },
      "source": [
        "import os\n",
        "import pandas as pd\n",
        "import numpy as np\n",
        "from bs4 import BeautifulSoup\n",
        "import contractions\n",
        "import re\n",
        "import string\n",
        "import spacy\n",
        "import nltk\n",
        "from nltk.corpus import stopwords\n",
        "from nltk.tokenize import wordpunct_tokenize\n",
        "from sklearn.naive_bayes import GaussianNB, MultinomialNB\n",
        "from sklearn.metrics import accuracy_score, classification_report\n",
        "from joblib import dump\n",
        "import tensorflow_datasets as tfds\n",
        "from keras.callbacks import EarlyStopping, ReduceLROnPlateau\n",
        "from keras.layers import LSTM, Bidirectional, Dense, Dropout, Embedding\n",
        "from keras import Input, Model\n",
        "from keras.models import load_model\n",
        "import matplotlib.pyplot as plt\n",
        "\n",
        "nltk.download('stopwords')\n",
        "nltk.download('punkt')\n",
        "stopword_list = stopwords.words('english')\n",
        "tokenizer = wordpunct_tokenize\n",
        "\n",
        "nlp = spacy.load('en', parse=True, tag=True, entity=True)\n",
        "\n",
        "lst = ['no', 'not', 'nor', 'very', 'too', 'ain\\'', 'ain\\'t']\n",
        "stopword_list = [s for s in stopword_list if s not in lst]"
      ],
      "execution_count": null,
      "outputs": []
    },
    {
      "cell_type": "code",
      "metadata": {
        "id": "ODQcI6XidolK"
      },
      "source": [
        "TOTAL_LEN = 2048\n",
        "BATCH_SIZE = 64"
      ],
      "execution_count": null,
      "outputs": []
    },
    {
      "cell_type": "code",
      "metadata": {
        "id": "SSJaA-dG9EcP"
      },
      "source": [
        "def get_data_dic(folder):\n",
        "  y = list()\n",
        "  x = list()\n",
        "  data = dict()\n",
        "  base_path = os.path.join('sentiment_data', folder)\n",
        "  for path in os.listdir(base_path):\n",
        "    for files in [os.path.join(base_path, path, f) for f in os.listdir(os.path.join(base_path, path))]:\n",
        "      file = open(files, 'r').read()\n",
        "      x.append(file)\n",
        "      if path == 'neg':\n",
        "        y.append(0)\n",
        "      elif path == 'pos':\n",
        "        y.append(1)\n",
        "\n",
        "  data['text'] = x\n",
        "  data['sentiment'] = y\n",
        "  return pd.DataFrame(data).sample(frac=1).reset_index(drop=True)"
      ],
      "execution_count": null,
      "outputs": []
    },
    {
      "cell_type": "code",
      "metadata": {
        "id": "bSdTsvBVBaA1"
      },
      "source": [
        "train_df = get_data_dic('train')\n",
        "test_df = get_data_dic('test')"
      ],
      "execution_count": null,
      "outputs": []
    },
    {
      "cell_type": "code",
      "metadata": {
        "colab": {
          "base_uri": "https://localhost:8080/",
          "height": 221
        },
        "id": "VTbuh-yvhfGO",
        "outputId": "ed41a1d2-451c-4085-d95e-9af6ef220207"
      },
      "source": [
        "print(train_df.shape)\n",
        "train_df.head()"
      ],
      "execution_count": null,
      "outputs": [
        {
          "output_type": "stream",
          "text": [
            "(35769, 2)\n"
          ],
          "name": "stdout"
        },
        {
          "output_type": "execute_result",
          "data": {
            "text/html": [
              "<div>\n",
              "<style scoped>\n",
              "    .dataframe tbody tr th:only-of-type {\n",
              "        vertical-align: middle;\n",
              "    }\n",
              "\n",
              "    .dataframe tbody tr th {\n",
              "        vertical-align: top;\n",
              "    }\n",
              "\n",
              "    .dataframe thead th {\n",
              "        text-align: right;\n",
              "    }\n",
              "</style>\n",
              "<table border=\"1\" class=\"dataframe\">\n",
              "  <thead>\n",
              "    <tr style=\"text-align: right;\">\n",
              "      <th></th>\n",
              "      <th>text</th>\n",
              "      <th>sentiment</th>\n",
              "    </tr>\n",
              "  </thead>\n",
              "  <tbody>\n",
              "    <tr>\n",
              "      <th>0</th>\n",
              "      <td>Almost 30 years later I recall this original P...</td>\n",
              "      <td>1</td>\n",
              "    </tr>\n",
              "    <tr>\n",
              "      <th>1</th>\n",
              "      <td>Every scene was put together perfectly.This mo...</td>\n",
              "      <td>1</td>\n",
              "    </tr>\n",
              "    <tr>\n",
              "      <th>2</th>\n",
              "      <td>I have to agree with the other two comments. I...</td>\n",
              "      <td>0</td>\n",
              "    </tr>\n",
              "    <tr>\n",
              "      <th>3</th>\n",
              "      <td>Well, of course not, women are overly sensitiv...</td>\n",
              "      <td>1</td>\n",
              "    </tr>\n",
              "    <tr>\n",
              "      <th>4</th>\n",
              "      <td>This is one of the best musicals of the 1940s....</td>\n",
              "      <td>1</td>\n",
              "    </tr>\n",
              "  </tbody>\n",
              "</table>\n",
              "</div>"
            ],
            "text/plain": [
              "                                                text  sentiment\n",
              "0  Almost 30 years later I recall this original P...          1\n",
              "1  Every scene was put together perfectly.This mo...          1\n",
              "2  I have to agree with the other two comments. I...          0\n",
              "3  Well, of course not, women are overly sensitiv...          1\n",
              "4  This is one of the best musicals of the 1940s....          1"
            ]
          },
          "metadata": {
            "tags": []
          },
          "execution_count": 8
        }
      ]
    },
    {
      "cell_type": "code",
      "metadata": {
        "colab": {
          "base_uri": "https://localhost:8080/",
          "height": 221
        },
        "id": "GqfjdeI5hlte",
        "outputId": "476d69ca-9388-47c2-c43f-3a1832365011"
      },
      "source": [
        "print(test_df.shape)\n",
        "test_df.head()"
      ],
      "execution_count": null,
      "outputs": [
        {
          "output_type": "stream",
          "text": [
            "(10000, 2)\n"
          ],
          "name": "stdout"
        },
        {
          "output_type": "execute_result",
          "data": {
            "text/html": [
              "<div>\n",
              "<style scoped>\n",
              "    .dataframe tbody tr th:only-of-type {\n",
              "        vertical-align: middle;\n",
              "    }\n",
              "\n",
              "    .dataframe tbody tr th {\n",
              "        vertical-align: top;\n",
              "    }\n",
              "\n",
              "    .dataframe thead th {\n",
              "        text-align: right;\n",
              "    }\n",
              "</style>\n",
              "<table border=\"1\" class=\"dataframe\">\n",
              "  <thead>\n",
              "    <tr style=\"text-align: right;\">\n",
              "      <th></th>\n",
              "      <th>text</th>\n",
              "      <th>sentiment</th>\n",
              "    </tr>\n",
              "  </thead>\n",
              "  <tbody>\n",
              "    <tr>\n",
              "      <th>0</th>\n",
              "      <td>This movie is such a total waste of time. I ca...</td>\n",
              "      <td>0</td>\n",
              "    </tr>\n",
              "    <tr>\n",
              "      <th>1</th>\n",
              "      <td>The only thing in \"Sudden Death\" that outdoes ...</td>\n",
              "      <td>0</td>\n",
              "    </tr>\n",
              "    <tr>\n",
              "      <th>2</th>\n",
              "      <td>I was a still photographer working in Europe t...</td>\n",
              "      <td>0</td>\n",
              "    </tr>\n",
              "    <tr>\n",
              "      <th>3</th>\n",
              "      <td>RKO Radio Pictures made a real classic in 1947...</td>\n",
              "      <td>1</td>\n",
              "    </tr>\n",
              "    <tr>\n",
              "      <th>4</th>\n",
              "      <td>Total Garbage!!! No reflection to Washington h...</td>\n",
              "      <td>0</td>\n",
              "    </tr>\n",
              "  </tbody>\n",
              "</table>\n",
              "</div>"
            ],
            "text/plain": [
              "                                                text  sentiment\n",
              "0  This movie is such a total waste of time. I ca...          0\n",
              "1  The only thing in \"Sudden Death\" that outdoes ...          0\n",
              "2  I was a still photographer working in Europe t...          0\n",
              "3  RKO Radio Pictures made a real classic in 1947...          1\n",
              "4  Total Garbage!!! No reflection to Washington h...          0"
            ]
          },
          "metadata": {
            "tags": []
          },
          "execution_count": 9
        }
      ]
    },
    {
      "cell_type": "code",
      "metadata": {
        "id": "sDxIMAtZhoev"
      },
      "source": [
        "def remove_html_tags(text):\n",
        "  return BeautifulSoup(text, 'html.parser').get_text()\n",
        "\n",
        "def remove_contraction(text):\n",
        "  return contractions.fix(text)\n",
        "\n",
        "def remove_special_characters(text):\n",
        "  return re.sub(r'[^a-zA-z0-9.,!?/:;\\\"\\'\\s]', '', text)\n",
        "\n",
        "def remove_punctuation(text):\n",
        "  return ''.join([c for c in text if c not in string.punctuation])\n",
        "\n",
        "def get_lem(text):\n",
        "  text = nlp(text)\n",
        "  text = ' '.join([word.lemma_ if word.lemma_ != '-PRON-' else word.text for word in text])\n",
        "  return text\n",
        "\n",
        "def get_stem(text):\n",
        "  stemmer = nltk.porter.PorterStemmer()\n",
        "  text = ' '.join([stemmer.stem(word) for word in text.split()])\n",
        "  return text\n",
        "\n",
        "def remove_stopwords(text):\n",
        "  tokens = wordpunct_tokenize(text)\n",
        "  tokens = [token.strip() for token in tokens]\n",
        "  tok = [token for token in tokens if token.lower() not in stopword_list]\n",
        "  return ' '.join(tok)\n",
        "\n",
        "def remove_extra_whitespace_tabs(text): \n",
        "  return re.sub(r'^\\s*|\\s\\s*', ' ', text).strip()\n",
        "\n",
        "def to_lowercase(text):\n",
        "  return text.lower()"
      ],
      "execution_count": null,
      "outputs": []
    },
    {
      "cell_type": "code",
      "metadata": {
        "id": "Jw2jj6xpiCmk"
      },
      "source": [
        "train_df['text'] = train_df['text'].apply(lambda x: remove_html_tags(x))\n",
        "train_df['text'] = train_df['text'].apply(lambda x: remove_contraction(x))\n",
        "train_df['text'] = train_df['text'].apply(lambda x: remove_special_characters(x))\n",
        "train_df['text'] = train_df['text'].apply(lambda x: remove_punctuation(x))\n",
        "train_df['text'] = train_df['text'].apply(lambda x: x.replace('\\n', ' '))\n",
        "train_df['text'] = train_df['text'].apply(lambda x: get_lem(x))\n",
        "train_df['text'] = train_df['text'].apply(lambda x: remove_stopwords(x))\n",
        "train_df['text'] = train_df['text'].apply(lambda x: remove_extra_whitespace_tabs(x))\n",
        "train_df['text'] = train_df['text'].apply(lambda x: to_lowercase(x))"
      ],
      "execution_count": null,
      "outputs": []
    },
    {
      "cell_type": "code",
      "metadata": {
        "colab": {
          "background_save": true
        },
        "id": "HesuFTzxyz1g",
        "outputId": "d6438632-64b0-4c63-eded-b15294cb88b1"
      },
      "source": [
        "train_df.head(10)"
      ],
      "execution_count": null,
      "outputs": [
        {
          "output_type": "execute_result",
          "data": {
            "text/html": [
              "<div>\n",
              "<style scoped>\n",
              "    .dataframe tbody tr th:only-of-type {\n",
              "        vertical-align: middle;\n",
              "    }\n",
              "\n",
              "    .dataframe tbody tr th {\n",
              "        vertical-align: top;\n",
              "    }\n",
              "\n",
              "    .dataframe thead th {\n",
              "        text-align: right;\n",
              "    }\n",
              "</style>\n",
              "<table border=\"1\" class=\"dataframe\">\n",
              "  <thead>\n",
              "    <tr style=\"text-align: right;\">\n",
              "      <th></th>\n",
              "      <th>text</th>\n",
              "      <th>sentiment</th>\n",
              "    </tr>\n",
              "  </thead>\n",
              "  <tbody>\n",
              "    <tr>\n",
              "      <th>0</th>\n",
              "      <td>almost 30 year later recall original pbs film ...</td>\n",
              "      <td>1</td>\n",
              "    </tr>\n",
              "    <tr>\n",
              "      <th>1</th>\n",
              "      <td>every scene put together perfectlythis movie w...</td>\n",
              "      <td>1</td>\n",
              "    </tr>\n",
              "    <tr>\n",
              "      <th>2</th>\n",
              "      <td>agree two comment wait month see great new sho...</td>\n",
              "      <td>0</td>\n",
              "    </tr>\n",
              "    <tr>\n",
              "      <th>3</th>\n",
              "      <td>well course not woman overly sensitive needy a...</td>\n",
              "      <td>1</td>\n",
              "    </tr>\n",
              "    <tr>\n",
              "      <th>4</th>\n",
              "      <td>one good musical 1940 glorious technicolor sho...</td>\n",
              "      <td>1</td>\n",
              "    </tr>\n",
              "    <tr>\n",
              "      <th>5</th>\n",
              "      <td>jimmy stewart real life pilot wwii flier onest...</td>\n",
              "      <td>1</td>\n",
              "    </tr>\n",
              "    <tr>\n",
              "      <th>6</th>\n",
              "      <td>czech cinematography travel dark time movie ta...</td>\n",
              "      <td>0</td>\n",
              "    </tr>\n",
              "    <tr>\n",
              "      <th>7</th>\n",
              "      <td>arnold fan holler joy fan brainless action hol...</td>\n",
              "      <td>0</td>\n",
              "    </tr>\n",
              "    <tr>\n",
              "      <th>8</th>\n",
              "      <td>terminus paradis exceptional niki ardelean com...</td>\n",
              "      <td>0</td>\n",
              "    </tr>\n",
              "    <tr>\n",
              "      <th>9</th>\n",
              "      <td>five year ago friend go video rental store get...</td>\n",
              "      <td>0</td>\n",
              "    </tr>\n",
              "  </tbody>\n",
              "</table>\n",
              "</div>"
            ],
            "text/plain": [
              "                                                text  sentiment\n",
              "0  almost 30 year later recall original pbs film ...          1\n",
              "1  every scene put together perfectlythis movie w...          1\n",
              "2  agree two comment wait month see great new sho...          0\n",
              "3  well course not woman overly sensitive needy a...          1\n",
              "4  one good musical 1940 glorious technicolor sho...          1\n",
              "5  jimmy stewart real life pilot wwii flier onest...          1\n",
              "6  czech cinematography travel dark time movie ta...          0\n",
              "7  arnold fan holler joy fan brainless action hol...          0\n",
              "8  terminus paradis exceptional niki ardelean com...          0\n",
              "9  five year ago friend go video rental store get...          0"
            ]
          },
          "metadata": {
            "tags": []
          },
          "execution_count": 0
        }
      ]
    },
    {
      "cell_type": "code",
      "metadata": {
        "colab": {
          "background_save": true
        },
        "id": "Q7JeLWtsXQu0"
      },
      "source": [
        "def process_text_data(text,\n",
        "                      html_tag_remove=True,\n",
        "                      contraction=True,\n",
        "                      remove_spcl_char=True,\n",
        "                      remove_punct=True,\n",
        "                      remove_newline_char=True,\n",
        "                      root_word='lemm',\n",
        "                      remove_stopword=True,\n",
        "                      remove_extra_space=True,\n",
        "                      to_lower=True):\n",
        "  '''\n",
        "  For `root_word` argument type:\n",
        "    \"lemm\" for Lemmarization; &\n",
        "    \"stem\" for Stemming.\n",
        "  '''\n",
        "  if html_tag_remove:\n",
        "    text = BeautifulSoup(text, 'html.parser').get_text()\n",
        "  if contraction:\n",
        "    text = contractions.fix(text)\n",
        "  if remove_spcl_char:\n",
        "    text = re.sub(r'[^a-zA-z0-9.,!?/:;\\\"\\'\\s]', '', text)\n",
        "  if remove_punct:\n",
        "    text = ''.join([c for c in text if c not in string.punctuation])\n",
        "  if remove_newline_char:\n",
        "    text = text.replace('\\n', ' ')\n",
        "  if root_word == 'lemm':\n",
        "    text = nlp(text)\n",
        "    text = ' '.join([word.lemma_ if word.lemma_ != '-PRON-' else word.text for word in text])\n",
        "  elif root_word == 'stem':\n",
        "    text = nltk.porter.PorterStemmer()\n",
        "    text = ' '.join([stemmer.stem(word) for word in text.split()])\n",
        "  else:\n",
        "    raise Exception('Root Word is wrong.')\n",
        "  if remove_stopword:\n",
        "    tokens = tokenizer(text)\n",
        "    tokens = [token.strip() for token in tokens]\n",
        "    tok = [token for token in tokens if token.lower() not in stopword_list]\n",
        "    text = ' '.join(tok)\n",
        "  if remove_extra_space:\n",
        "    text = re.sub(r'^\\s*|\\s\\s*', ' ', text).strip()\n",
        "  if to_lower:\n",
        "    text = text.lower()\n",
        "\n",
        "  return text"
      ],
      "execution_count": null,
      "outputs": []
    },
    {
      "cell_type": "code",
      "metadata": {
        "colab": {
          "background_save": true
        },
        "id": "rIuxCvbipdxM"
      },
      "source": [
        "test_df['text'] = test_df['text'].apply(lambda x: process_text_data(x))"
      ],
      "execution_count": null,
      "outputs": []
    },
    {
      "cell_type": "code",
      "metadata": {
        "id": "1L9QeZBk05hS"
      },
      "source": [
        "# def corpus_gen():\n",
        "#   for i, row in train_df.iterrows():\n",
        "#     yield row['text']\n",
        "\n",
        "# tokenizer_sentiment = tfds.deprecated.text.SubwordTextEncoder.build_from_corpus(corpus_gen(), target_vocab_size=2**13)\n",
        "\n",
        "# tokenizer_sentiment.save_to_file('sentiment')"
      ],
      "execution_count": null,
      "outputs": []
    },
    {
      "cell_type": "code",
      "metadata": {
        "id": "-Agjn5iE1WA7"
      },
      "source": [
        "tokenizer_sentiment = tfds.deprecated.text.SubwordTextEncoder.load_from_file('sentiment')"
      ],
      "execution_count": null,
      "outputs": []
    },
    {
      "cell_type": "code",
      "metadata": {
        "id": "0ynl8GEVfA27"
      },
      "source": [
        "def encoding_and_padding(text):\n",
        "  en_text = [tokenizer_sentiment.vocab_size] + tokenizer_sentiment.encode(text)\n",
        "  if len(en_text) < TOTAL_LEN:\n",
        "    en_text = en_text + [0] * (TOTAL_LEN - len(en_text) - 1) + [tokenizer_sentiment.vocab_size + 1]\n",
        "  else:\n",
        "    en_text = en_text[:TOTAL_LEN-1] + [tokenizer_sentiment.vocab_size + 1]\n",
        "  return en_text"
      ],
      "execution_count": null,
      "outputs": []
    },
    {
      "cell_type": "markdown",
      "metadata": {
        "id": "pts5ndefvemp"
      },
      "source": [
        "#Naive Bayes"
      ]
    },
    {
      "cell_type": "code",
      "metadata": {
        "id": "bR-4-1SUfH0y"
      },
      "source": [
        "naive_df = train_df.copy()\n",
        "naive_df['encoded_text'] = naive_df['text'].apply(lambda x: encoding_and_padding(x))\n",
        "naive_df.drop('text', axis=1, inplace=True)"
      ],
      "execution_count": null,
      "outputs": []
    },
    {
      "cell_type": "code",
      "metadata": {
        "colab": {
          "base_uri": "https://localhost:8080/",
          "height": 204
        },
        "id": "4VM4tbROhU9i",
        "outputId": "feed195c-dc00-4391-96a3-8c79aa2517b0"
      },
      "source": [
        "naive_df.head()"
      ],
      "execution_count": null,
      "outputs": [
        {
          "output_type": "execute_result",
          "data": {
            "text/html": [
              "<div>\n",
              "<style scoped>\n",
              "    .dataframe tbody tr th:only-of-type {\n",
              "        vertical-align: middle;\n",
              "    }\n",
              "\n",
              "    .dataframe tbody tr th {\n",
              "        vertical-align: top;\n",
              "    }\n",
              "\n",
              "    .dataframe thead th {\n",
              "        text-align: right;\n",
              "    }\n",
              "</style>\n",
              "<table border=\"1\" class=\"dataframe\">\n",
              "  <thead>\n",
              "    <tr style=\"text-align: right;\">\n",
              "      <th></th>\n",
              "      <th>sentiment</th>\n",
              "      <th>encoded_text</th>\n",
              "    </tr>\n",
              "  </thead>\n",
              "  <tbody>\n",
              "    <tr>\n",
              "      <th>0</th>\n",
              "      <td>1</td>\n",
              "      <td>[8232, 371, 1112, 11, 253, 3796, 72, 4704, 51,...</td>\n",
              "    </tr>\n",
              "    <tr>\n",
              "      <th>1</th>\n",
              "      <td>0</td>\n",
              "      <td>[8232, 24, 1, 58, 607, 2169, 3116, 3856, 204, ...</td>\n",
              "    </tr>\n",
              "    <tr>\n",
              "      <th>2</th>\n",
              "      <td>1</td>\n",
              "      <td>[8232, 1, 1387, 308, 8026, 274, 232, 304, 2713...</td>\n",
              "    </tr>\n",
              "    <tr>\n",
              "      <th>3</th>\n",
              "      <td>0</td>\n",
              "      <td>[8232, 115, 490, 993, 434, 1625, 1, 270, 2729,...</td>\n",
              "    </tr>\n",
              "    <tr>\n",
              "      <th>4</th>\n",
              "      <td>0</td>\n",
              "      <td>[8232, 1557, 140, 4182, 146, 3191, 26, 146, 71...</td>\n",
              "    </tr>\n",
              "  </tbody>\n",
              "</table>\n",
              "</div>"
            ],
            "text/plain": [
              "   sentiment                                       encoded_text\n",
              "0          1  [8232, 371, 1112, 11, 253, 3796, 72, 4704, 51,...\n",
              "1          0  [8232, 24, 1, 58, 607, 2169, 3116, 3856, 204, ...\n",
              "2          1  [8232, 1, 1387, 308, 8026, 274, 232, 304, 2713...\n",
              "3          0  [8232, 115, 490, 993, 434, 1625, 1, 270, 2729,...\n",
              "4          0  [8232, 1557, 140, 4182, 146, 3191, 26, 146, 71..."
            ]
          },
          "metadata": {
            "tags": []
          },
          "execution_count": 63
        }
      ]
    },
    {
      "cell_type": "code",
      "metadata": {
        "id": "BGXWsARpnV5Z"
      },
      "source": [
        "def get_data_x_y(df):\n",
        "  x = np.asarray([r['encoded_text'] for i, r in df.iterrows()])\n",
        "  y = np.asarray(df['sentiment'])\n",
        "  return x, y"
      ],
      "execution_count": null,
      "outputs": []
    },
    {
      "cell_type": "code",
      "metadata": {
        "id": "JvDV5677oA9s"
      },
      "source": [
        "naive_train_x, naive_train_y = get_data_x_y(naive_df)"
      ],
      "execution_count": null,
      "outputs": []
    },
    {
      "cell_type": "code",
      "metadata": {
        "id": "DXZRnuBbpOfr"
      },
      "source": [
        "gnb = GaussianNB()\n",
        "mnb = MultinomialNB()"
      ],
      "execution_count": null,
      "outputs": []
    },
    {
      "cell_type": "code",
      "metadata": {
        "colab": {
          "base_uri": "https://localhost:8080/"
        },
        "id": "yal7f5afpUmZ",
        "outputId": "744bb762-fafb-4026-bf85-ce67b5df84bd"
      },
      "source": [
        "gnb.fit(naive_train_x, naive_train_y)"
      ],
      "execution_count": null,
      "outputs": [
        {
          "output_type": "execute_result",
          "data": {
            "text/plain": [
              "GaussianNB(priors=None, var_smoothing=1e-09)"
            ]
          },
          "metadata": {
            "tags": []
          },
          "execution_count": 69
        }
      ]
    },
    {
      "cell_type": "code",
      "metadata": {
        "colab": {
          "base_uri": "https://localhost:8080/"
        },
        "id": "U9aerbSQpaKY",
        "outputId": "3f3c2a40-fdb5-48b7-c27c-bdb07b549659"
      },
      "source": [
        "mnb.fit(naive_train_x, naive_train_y)"
      ],
      "execution_count": null,
      "outputs": [
        {
          "output_type": "execute_result",
          "data": {
            "text/plain": [
              "MultinomialNB(alpha=1.0, class_prior=None, fit_prior=True)"
            ]
          },
          "metadata": {
            "tags": []
          },
          "execution_count": 70
        }
      ]
    },
    {
      "cell_type": "code",
      "metadata": {
        "id": "noecVZp6qCrO"
      },
      "source": [
        "naive_test = test_df.copy()\n",
        "naive_test['encoded_text'] = naive_test['text'].apply(lambda x: encoding_and_padding(x))\n",
        "naive_test.drop('text', axis=1, inplace=True)"
      ],
      "execution_count": null,
      "outputs": []
    },
    {
      "cell_type": "code",
      "metadata": {
        "colab": {
          "base_uri": "https://localhost:8080/",
          "height": 204
        },
        "id": "wTQNoQvzrMdq",
        "outputId": "04190607-b5f9-46b0-9fae-be4c122d4a8a"
      },
      "source": [
        "naive_test.head()"
      ],
      "execution_count": null,
      "outputs": [
        {
          "output_type": "execute_result",
          "data": {
            "text/html": [
              "<div>\n",
              "<style scoped>\n",
              "    .dataframe tbody tr th:only-of-type {\n",
              "        vertical-align: middle;\n",
              "    }\n",
              "\n",
              "    .dataframe tbody tr th {\n",
              "        vertical-align: top;\n",
              "    }\n",
              "\n",
              "    .dataframe thead th {\n",
              "        text-align: right;\n",
              "    }\n",
              "</style>\n",
              "<table border=\"1\" class=\"dataframe\">\n",
              "  <thead>\n",
              "    <tr style=\"text-align: right;\">\n",
              "      <th></th>\n",
              "      <th>sentiment</th>\n",
              "      <th>encoded_text</th>\n",
              "    </tr>\n",
              "  </thead>\n",
              "  <tbody>\n",
              "    <tr>\n",
              "      <th>0</th>\n",
              "      <td>0</td>\n",
              "      <td>[8232, 4, 1193, 1309, 3868, 8008, 4927, 3, 195...</td>\n",
              "    </tr>\n",
              "    <tr>\n",
              "      <th>1</th>\n",
              "      <td>0</td>\n",
              "      <td>[8232, 51, 2, 3658, 12, 3337, 66, 2, 26, 164, ...</td>\n",
              "    </tr>\n",
              "    <tr>\n",
              "      <th>2</th>\n",
              "      <td>1</td>\n",
              "      <td>[8232, 19, 159, 7788, 270, 26, 7107, 2065, 380...</td>\n",
              "    </tr>\n",
              "    <tr>\n",
              "      <th>3</th>\n",
              "      <td>0</td>\n",
              "      <td>[8232, 29, 259, 239, 385, 100, 5379, 2100, 593...</td>\n",
              "    </tr>\n",
              "    <tr>\n",
              "      <th>4</th>\n",
              "      <td>1</td>\n",
              "      <td>[8232, 6, 1437, 6476, 129, 669, 1835, 1213, 21...</td>\n",
              "    </tr>\n",
              "  </tbody>\n",
              "</table>\n",
              "</div>"
            ],
            "text/plain": [
              "   sentiment                                       encoded_text\n",
              "0          0  [8232, 4, 1193, 1309, 3868, 8008, 4927, 3, 195...\n",
              "1          0  [8232, 51, 2, 3658, 12, 3337, 66, 2, 26, 164, ...\n",
              "2          1  [8232, 19, 159, 7788, 270, 26, 7107, 2065, 380...\n",
              "3          0  [8232, 29, 259, 239, 385, 100, 5379, 2100, 593...\n",
              "4          1  [8232, 6, 1437, 6476, 129, 669, 1835, 1213, 21..."
            ]
          },
          "metadata": {
            "tags": []
          },
          "execution_count": 74
        }
      ]
    },
    {
      "cell_type": "code",
      "metadata": {
        "id": "iabw8yVzrOe2"
      },
      "source": [
        "naive_testx, naive_testy = get_data_x_y(naive_test)"
      ],
      "execution_count": null,
      "outputs": []
    },
    {
      "cell_type": "code",
      "metadata": {
        "id": "MqAQqJgWrblc"
      },
      "source": [
        "pred_y_gnb = gnb.predict(naive_testx)\n",
        "pred_y_mnb = mnb.predict(naive_testx)"
      ],
      "execution_count": null,
      "outputs": []
    },
    {
      "cell_type": "code",
      "metadata": {
        "colab": {
          "base_uri": "https://localhost:8080/"
        },
        "id": "n5OgzDIfrmuR",
        "outputId": "ead88c47-317c-489c-8cc5-3df39a79db35"
      },
      "source": [
        "print('GNB: ', accuracy_score(naive_testy, pred_y_gnb))\n",
        "print('MNB: ', accuracy_score(naive_testy, pred_y_mnb))"
      ],
      "execution_count": null,
      "outputs": [
        {
          "output_type": "stream",
          "text": [
            "GNB:  0.5019\n",
            "MNB:  0.5107\n"
          ],
          "name": "stdout"
        }
      ]
    },
    {
      "cell_type": "markdown",
      "metadata": {
        "id": "aRecJClMtj0h"
      },
      "source": [
        "GNB Classification Report:\n",
        "```\n",
        "              precision    recall  f1-score   support\n",
        "\n",
        "           0       0.50      0.99      0.67      5000\n",
        "           1       0.62      0.01      0.02      5000\n",
        "\n",
        "    accuracy                           0.50     10000\n",
        "   macro avg       0.56      0.50      0.34     10000\n",
        "weighted avg       0.56      0.50      0.34     10000\n",
        "```"
      ]
    },
    {
      "cell_type": "markdown",
      "metadata": {
        "id": "jgXJIArfuux-"
      },
      "source": [
        "MNB Classification Report:\n",
        "```\n",
        "              precision    recall  f1-score   support\n",
        "\n",
        "           0       0.51      0.89      0.64      5000\n",
        "           1       0.54      0.13      0.21      5000\n",
        "\n",
        "    accuracy                           0.51     10000\n",
        "   macro avg       0.52      0.51      0.43     10000\n",
        "weighted avg       0.52      0.51      0.43     10000\n",
        "```"
      ]
    },
    {
      "cell_type": "code",
      "metadata": {
        "colab": {
          "base_uri": "https://localhost:8080/"
        },
        "id": "fm5VWsgYPT8w",
        "outputId": "9d7b6b68-fd2f-43c5-c26e-091294ac2572"
      },
      "source": [
        "dump(mnb, 'naive.joblib')"
      ],
      "execution_count": null,
      "outputs": [
        {
          "output_type": "execute_result",
          "data": {
            "text/plain": [
              "['naive.joblib']"
            ]
          },
          "metadata": {
            "tags": []
          },
          "execution_count": 151
        }
      ]
    },
    {
      "cell_type": "markdown",
      "metadata": {
        "id": "B-u8xFKvvqvn"
      },
      "source": [
        "#LSTM"
      ]
    },
    {
      "cell_type": "code",
      "metadata": {
        "colab": {
          "base_uri": "https://localhost:8080/",
          "height": 204
        },
        "id": "x8Sb6LkxwF3g",
        "outputId": "a48cec83-06b7-456b-8c86-99075415d064"
      },
      "source": [
        "train_df['encoded_text'] = train_df['text'].apply(lambda x: encoding_and_padding(x))\n",
        "train_df.drop('text', axis=1, inplace=True)\n",
        "train_df.head()"
      ],
      "execution_count": null,
      "outputs": [
        {
          "output_type": "execute_result",
          "data": {
            "text/html": [
              "<div>\n",
              "<style scoped>\n",
              "    .dataframe tbody tr th:only-of-type {\n",
              "        vertical-align: middle;\n",
              "    }\n",
              "\n",
              "    .dataframe tbody tr th {\n",
              "        vertical-align: top;\n",
              "    }\n",
              "\n",
              "    .dataframe thead th {\n",
              "        text-align: right;\n",
              "    }\n",
              "</style>\n",
              "<table border=\"1\" class=\"dataframe\">\n",
              "  <thead>\n",
              "    <tr style=\"text-align: right;\">\n",
              "      <th></th>\n",
              "      <th>sentiment</th>\n",
              "      <th>encoded_text</th>\n",
              "    </tr>\n",
              "  </thead>\n",
              "  <tbody>\n",
              "    <tr>\n",
              "      <th>0</th>\n",
              "      <td>1</td>\n",
              "      <td>[8232, 371, 1112, 11, 253, 3796, 72, 4704, 51,...</td>\n",
              "    </tr>\n",
              "    <tr>\n",
              "      <th>1</th>\n",
              "      <td>0</td>\n",
              "      <td>[8232, 24, 1, 58, 607, 2169, 3116, 3856, 204, ...</td>\n",
              "    </tr>\n",
              "    <tr>\n",
              "      <th>2</th>\n",
              "      <td>1</td>\n",
              "      <td>[8232, 1, 1387, 308, 8026, 274, 232, 304, 2713...</td>\n",
              "    </tr>\n",
              "    <tr>\n",
              "      <th>3</th>\n",
              "      <td>0</td>\n",
              "      <td>[8232, 115, 490, 993, 434, 1625, 1, 270, 2729,...</td>\n",
              "    </tr>\n",
              "    <tr>\n",
              "      <th>4</th>\n",
              "      <td>0</td>\n",
              "      <td>[8232, 1557, 140, 4182, 146, 3191, 26, 146, 71...</td>\n",
              "    </tr>\n",
              "  </tbody>\n",
              "</table>\n",
              "</div>"
            ],
            "text/plain": [
              "   sentiment                                       encoded_text\n",
              "0          1  [8232, 371, 1112, 11, 253, 3796, 72, 4704, 51,...\n",
              "1          0  [8232, 24, 1, 58, 607, 2169, 3116, 3856, 204, ...\n",
              "2          1  [8232, 1, 1387, 308, 8026, 274, 232, 304, 2713...\n",
              "3          0  [8232, 115, 490, 993, 434, 1625, 1, 270, 2729,...\n",
              "4          0  [8232, 1557, 140, 4182, 146, 3191, 26, 146, 71..."
            ]
          },
          "metadata": {
            "tags": []
          },
          "execution_count": 82
        }
      ]
    },
    {
      "cell_type": "code",
      "metadata": {
        "colab": {
          "base_uri": "https://localhost:8080/",
          "height": 204
        },
        "id": "uY9NDRgMwF0D",
        "outputId": "04caba3b-d114-45ed-cd98-c1a92330ce23"
      },
      "source": [
        "test_df['encoded_text'] = test_df['text'].apply(lambda x: encoding_and_padding(x))\n",
        "test_df.drop('text', axis=1, inplace=True)\n",
        "test_df.head()"
      ],
      "execution_count": null,
      "outputs": [
        {
          "output_type": "execute_result",
          "data": {
            "text/html": [
              "<div>\n",
              "<style scoped>\n",
              "    .dataframe tbody tr th:only-of-type {\n",
              "        vertical-align: middle;\n",
              "    }\n",
              "\n",
              "    .dataframe tbody tr th {\n",
              "        vertical-align: top;\n",
              "    }\n",
              "\n",
              "    .dataframe thead th {\n",
              "        text-align: right;\n",
              "    }\n",
              "</style>\n",
              "<table border=\"1\" class=\"dataframe\">\n",
              "  <thead>\n",
              "    <tr style=\"text-align: right;\">\n",
              "      <th></th>\n",
              "      <th>sentiment</th>\n",
              "      <th>encoded_text</th>\n",
              "    </tr>\n",
              "  </thead>\n",
              "  <tbody>\n",
              "    <tr>\n",
              "      <th>0</th>\n",
              "      <td>0</td>\n",
              "      <td>[8232, 4, 1193, 1309, 3868, 8008, 4927, 3, 195...</td>\n",
              "    </tr>\n",
              "    <tr>\n",
              "      <th>1</th>\n",
              "      <td>0</td>\n",
              "      <td>[8232, 51, 2, 3658, 12, 3337, 66, 2, 26, 164, ...</td>\n",
              "    </tr>\n",
              "    <tr>\n",
              "      <th>2</th>\n",
              "      <td>1</td>\n",
              "      <td>[8232, 19, 159, 7788, 270, 26, 7107, 2065, 380...</td>\n",
              "    </tr>\n",
              "    <tr>\n",
              "      <th>3</th>\n",
              "      <td>0</td>\n",
              "      <td>[8232, 29, 259, 239, 385, 100, 5379, 2100, 593...</td>\n",
              "    </tr>\n",
              "    <tr>\n",
              "      <th>4</th>\n",
              "      <td>1</td>\n",
              "      <td>[8232, 6, 1437, 6476, 129, 669, 1835, 1213, 21...</td>\n",
              "    </tr>\n",
              "  </tbody>\n",
              "</table>\n",
              "</div>"
            ],
            "text/plain": [
              "   sentiment                                       encoded_text\n",
              "0          0  [8232, 4, 1193, 1309, 3868, 8008, 4927, 3, 195...\n",
              "1          0  [8232, 51, 2, 3658, 12, 3337, 66, 2, 26, 164, ...\n",
              "2          1  [8232, 19, 159, 7788, 270, 26, 7107, 2065, 380...\n",
              "3          0  [8232, 29, 259, 239, 385, 100, 5379, 2100, 593...\n",
              "4          1  [8232, 6, 1437, 6476, 129, 669, 1835, 1213, 21..."
            ]
          },
          "metadata": {
            "tags": []
          },
          "execution_count": 83
        }
      ]
    },
    {
      "cell_type": "code",
      "metadata": {
        "id": "jce7n1v7vHFH"
      },
      "source": [
        "def model_data_gen(df):\n",
        "  while True:\n",
        "    df_sample = df.sample(n=BATCH_SIZE)\n",
        "    x, y = get_data_x_y(df_sample)\n",
        "    \n",
        "    yield x, y"
      ],
      "execution_count": null,
      "outputs": []
    },
    {
      "cell_type": "code",
      "metadata": {
        "id": "sTaVX0-Dydm5"
      },
      "source": [
        "p, q = next(model_data_gen(train_df))"
      ],
      "execution_count": null,
      "outputs": []
    },
    {
      "cell_type": "code",
      "metadata": {
        "colab": {
          "base_uri": "https://localhost:8080/"
        },
        "id": "XYpN9gST0gsc",
        "outputId": "21e933c8-a337-4562-8a67-5f54afa8ece4"
      },
      "source": [
        "print('Text Batch Sequence Shape: ', p.shape)\n",
        "print('Corresponding Sentiment Batch Shape: ', q.shape)"
      ],
      "execution_count": null,
      "outputs": [
        {
          "output_type": "stream",
          "text": [
            "Text Batch Sequence Shape:  (64, 2048)\n",
            "Corresponding Sentiment Batch Shape:  (64,)\n"
          ],
          "name": "stdout"
        }
      ]
    },
    {
      "cell_type": "code",
      "metadata": {
        "id": "c32j3Hwk5oLG"
      },
      "source": [
        "train_gen = model_data_gen(train_df)\n",
        "val_gen = model_data_gen(test_df)"
      ],
      "execution_count": null,
      "outputs": []
    },
    {
      "cell_type": "code",
      "metadata": {
        "id": "RRjSbPrd2wrb"
      },
      "source": [
        "VOCAB_SIZE = tokenizer_sentiment.vocab_size + 2\n",
        "EMB_SIZE = 128"
      ],
      "execution_count": null,
      "outputs": []
    },
    {
      "cell_type": "code",
      "metadata": {
        "colab": {
          "base_uri": "https://localhost:8080/"
        },
        "id": "0-Fv8z_82nyG",
        "outputId": "fe750159-0c36-477d-da6c-803fc12621c1"
      },
      "source": [
        "inputs = Input((TOTAL_LEN))\n",
        "x = Embedding(VOCAB_SIZE, EMB_SIZE)(inputs)\n",
        "x = Bidirectional(LSTM(64, return_sequences=True))(x)\n",
        "x = Bidirectional(LSTM(64))(x)\n",
        "x = Dropout(0.4)(x)\n",
        "x = Dense(64, activation='relu')(x)\n",
        "x = Dropout(0.3)(x)\n",
        "x = Dense(32, activation='relu')(x)\n",
        "outputs = Dense(1, activation=\"sigmoid\")(x)\n",
        "\n",
        "model_lstm = Model(inputs, outputs)\n",
        "\n",
        "model_lstm.summary()"
      ],
      "execution_count": null,
      "outputs": [
        {
          "output_type": "stream",
          "text": [
            "Model: \"model_4\"\n",
            "_________________________________________________________________\n",
            "Layer (type)                 Output Shape              Param #   \n",
            "=================================================================\n",
            "input_5 (InputLayer)         [(None, 2048)]            0         \n",
            "_________________________________________________________________\n",
            "embedding_4 (Embedding)      (None, 2048, 128)         1053952   \n",
            "_________________________________________________________________\n",
            "bidirectional_9 (Bidirection (None, 2048, 128)         98816     \n",
            "_________________________________________________________________\n",
            "bidirectional_10 (Bidirectio (None, 128)               98816     \n",
            "_________________________________________________________________\n",
            "dropout_8 (Dropout)          (None, 128)               0         \n",
            "_________________________________________________________________\n",
            "dense_12 (Dense)             (None, 64)                8256      \n",
            "_________________________________________________________________\n",
            "dropout_9 (Dropout)          (None, 64)                0         \n",
            "_________________________________________________________________\n",
            "dense_13 (Dense)             (None, 32)                2080      \n",
            "_________________________________________________________________\n",
            "dense_14 (Dense)             (None, 1)                 33        \n",
            "=================================================================\n",
            "Total params: 1,261,953\n",
            "Trainable params: 1,261,953\n",
            "Non-trainable params: 0\n",
            "_________________________________________________________________\n"
          ],
          "name": "stdout"
        }
      ]
    },
    {
      "cell_type": "code",
      "metadata": {
        "id": "qk2HG7pR3EsQ"
      },
      "source": [
        "model_lstm.compile(loss='binary_crossentropy', optimizer='adam', metrics=['accuracy'])"
      ],
      "execution_count": null,
      "outputs": []
    },
    {
      "cell_type": "code",
      "metadata": {
        "id": "3Ya2lVhw5NIO"
      },
      "source": [
        "early_stop = EarlyStopping(patience=10, restore_best_weights=True, monitor='val_accuracy')\n",
        "lr_red = ReduceLROnPlateau(patience=3, factor=0.01, monitor='val_accuracy')"
      ],
      "execution_count": null,
      "outputs": []
    },
    {
      "cell_type": "code",
      "metadata": {
        "colab": {
          "base_uri": "https://localhost:8080/"
        },
        "id": "lutJ_i2a58Fk",
        "outputId": "ef93d7c2-e49b-493f-c17b-e9b6d8959874"
      },
      "source": [
        "hist = model_lstm.fit(train_gen, epochs=100, steps_per_epoch=64, validation_data=val_gen,\n",
        "                      validation_steps=64, callbacks=[early_stop, lr_red])"
      ],
      "execution_count": null,
      "outputs": [
        {
          "output_type": "stream",
          "text": [
            "Epoch 1/100\n",
            "64/64 [==============================] - 37s 484ms/step - loss: 0.6866 - accuracy: 0.5293 - val_loss: 0.5360 - val_accuracy: 0.7451\n",
            "Epoch 2/100\n",
            "64/64 [==============================] - 29s 456ms/step - loss: 0.5304 - accuracy: 0.7675 - val_loss: 0.4645 - val_accuracy: 0.7925\n",
            "Epoch 3/100\n",
            "64/64 [==============================] - 29s 460ms/step - loss: 0.4629 - accuracy: 0.8131 - val_loss: 0.4328 - val_accuracy: 0.8098\n",
            "Epoch 4/100\n",
            "64/64 [==============================] - 29s 463ms/step - loss: 0.4222 - accuracy: 0.8320 - val_loss: 0.4264 - val_accuracy: 0.8213\n",
            "Epoch 5/100\n",
            "64/64 [==============================] - 29s 458ms/step - loss: 0.4433 - accuracy: 0.8223 - val_loss: 0.4528 - val_accuracy: 0.8123\n",
            "Epoch 6/100\n",
            "64/64 [==============================] - 29s 463ms/step - loss: 0.4058 - accuracy: 0.8441 - val_loss: 0.4783 - val_accuracy: 0.8091\n",
            "Epoch 7/100\n",
            "64/64 [==============================] - 29s 457ms/step - loss: 0.3715 - accuracy: 0.8623 - val_loss: 0.3899 - val_accuracy: 0.8523\n",
            "Epoch 8/100\n",
            "64/64 [==============================] - 29s 451ms/step - loss: 0.3343 - accuracy: 0.8684 - val_loss: 0.3771 - val_accuracy: 0.8367\n",
            "Epoch 9/100\n",
            "64/64 [==============================] - 28s 446ms/step - loss: 0.3107 - accuracy: 0.8797 - val_loss: 0.3405 - val_accuracy: 0.8591\n",
            "Epoch 10/100\n",
            "64/64 [==============================] - 28s 448ms/step - loss: 0.2822 - accuracy: 0.8979 - val_loss: 0.3522 - val_accuracy: 0.8552\n",
            "Epoch 11/100\n",
            "64/64 [==============================] - 28s 446ms/step - loss: 0.3081 - accuracy: 0.8835 - val_loss: 0.3407 - val_accuracy: 0.8616\n",
            "Epoch 12/100\n",
            "64/64 [==============================] - 28s 447ms/step - loss: 0.2917 - accuracy: 0.8902 - val_loss: 0.3297 - val_accuracy: 0.8618\n",
            "Epoch 13/100\n",
            "64/64 [==============================] - 29s 449ms/step - loss: 0.2504 - accuracy: 0.9097 - val_loss: 0.3711 - val_accuracy: 0.8594\n",
            "Epoch 14/100\n",
            "64/64 [==============================] - 28s 446ms/step - loss: 0.2711 - accuracy: 0.8979 - val_loss: 0.4061 - val_accuracy: 0.8179\n",
            "Epoch 15/100\n",
            "64/64 [==============================] - 28s 444ms/step - loss: 0.4317 - accuracy: 0.8236 - val_loss: 0.3810 - val_accuracy: 0.8440\n",
            "Epoch 16/100\n",
            "64/64 [==============================] - 28s 447ms/step - loss: 0.3226 - accuracy: 0.8827 - val_loss: 0.3667 - val_accuracy: 0.8542\n",
            "Epoch 17/100\n",
            "64/64 [==============================] - 28s 446ms/step - loss: 0.3196 - accuracy: 0.8795 - val_loss: 0.3718 - val_accuracy: 0.8535\n",
            "Epoch 18/100\n",
            "64/64 [==============================] - 28s 447ms/step - loss: 0.2761 - accuracy: 0.9051 - val_loss: 0.3530 - val_accuracy: 0.8660\n",
            "Epoch 19/100\n",
            "64/64 [==============================] - 29s 448ms/step - loss: 0.3031 - accuracy: 0.8870 - val_loss: 0.3651 - val_accuracy: 0.8535\n",
            "Epoch 20/100\n",
            "64/64 [==============================] - 28s 446ms/step - loss: 0.2879 - accuracy: 0.8971 - val_loss: 0.3360 - val_accuracy: 0.8704\n",
            "Epoch 21/100\n",
            "64/64 [==============================] - 29s 448ms/step - loss: 0.2734 - accuracy: 0.9068 - val_loss: 0.3513 - val_accuracy: 0.8601\n",
            "Epoch 22/100\n",
            "64/64 [==============================] - 28s 445ms/step - loss: 0.2834 - accuracy: 0.8965 - val_loss: 0.3420 - val_accuracy: 0.8621\n",
            "Epoch 23/100\n",
            "64/64 [==============================] - 28s 444ms/step - loss: 0.2818 - accuracy: 0.8996 - val_loss: 0.3458 - val_accuracy: 0.8606\n",
            "Epoch 24/100\n",
            "64/64 [==============================] - 28s 447ms/step - loss: 0.2783 - accuracy: 0.9046 - val_loss: 0.3277 - val_accuracy: 0.8726\n",
            "Epoch 25/100\n",
            "64/64 [==============================] - 28s 446ms/step - loss: 0.2846 - accuracy: 0.8989 - val_loss: 0.3464 - val_accuracy: 0.8621\n",
            "Epoch 26/100\n",
            "64/64 [==============================] - 28s 446ms/step - loss: 0.2734 - accuracy: 0.9017 - val_loss: 0.3506 - val_accuracy: 0.8611\n",
            "Epoch 27/100\n",
            "64/64 [==============================] - 28s 445ms/step - loss: 0.2728 - accuracy: 0.9055 - val_loss: 0.3445 - val_accuracy: 0.8625\n",
            "Epoch 28/100\n",
            "64/64 [==============================] - 29s 450ms/step - loss: 0.2576 - accuracy: 0.9136 - val_loss: 0.3356 - val_accuracy: 0.8638\n",
            "Epoch 29/100\n",
            "64/64 [==============================] - 28s 446ms/step - loss: 0.2623 - accuracy: 0.9131 - val_loss: 0.3454 - val_accuracy: 0.8625\n",
            "Epoch 30/100\n",
            "64/64 [==============================] - 28s 446ms/step - loss: 0.2900 - accuracy: 0.8921 - val_loss: 0.3577 - val_accuracy: 0.8577\n",
            "Epoch 31/100\n",
            "64/64 [==============================] - 28s 445ms/step - loss: 0.2563 - accuracy: 0.9060 - val_loss: 0.3401 - val_accuracy: 0.8677\n",
            "Epoch 32/100\n",
            "64/64 [==============================] - 28s 445ms/step - loss: 0.2417 - accuracy: 0.9189 - val_loss: 0.3458 - val_accuracy: 0.8591\n",
            "Epoch 33/100\n",
            "64/64 [==============================] - 28s 443ms/step - loss: 0.2674 - accuracy: 0.9001 - val_loss: 0.3421 - val_accuracy: 0.8616\n",
            "Epoch 34/100\n",
            "64/64 [==============================] - 28s 446ms/step - loss: 0.2841 - accuracy: 0.9006 - val_loss: 0.3491 - val_accuracy: 0.8552\n"
          ],
          "name": "stdout"
        }
      ]
    },
    {
      "cell_type": "code",
      "metadata": {
        "id": "dfeqcfH4NVnW"
      },
      "source": [
        "def res(result):\n",
        "  if result > 0.5:\n",
        "    print('positive')\n",
        "  else:\n",
        "    print('negative')"
      ],
      "execution_count": null,
      "outputs": []
    },
    {
      "cell_type": "code",
      "metadata": {
        "colab": {
          "base_uri": "https://localhost:8080/",
          "height": 265
        },
        "id": "IFPZYm-C_CRm",
        "outputId": "28b1d5d1-caf7-4d7b-a15f-42b4864b3fa0"
      },
      "source": [
        "p1 = plt.plot(range(len(hist.history['accuracy'])), hist.history['accuracy'])\n",
        "p2 = plt.plot(range(len(hist.history['val_accuracy'])), hist.history['val_accuracy'])\n",
        "plt.legend(['acc', 'val_acc'])\n",
        "plt.show()"
      ],
      "execution_count": null,
      "outputs": [
        {
          "output_type": "display_data",
          "data": {
            "image/png": "[encoded data removed]",
            "text/plain": [
              "<Figure size 432x288 with 1 Axes>"
            ]
          },
          "metadata": {
            "tags": []
          }
        }
      ]
    },
    {
      "cell_type": "code",
      "metadata": {
        "colab": {
          "base_uri": "https://localhost:8080/",
          "height": 265
        },
        "id": "Fq_xh34t_Wor",
        "outputId": "dcd0debd-b406-4f58-d277-2a79c306af81"
      },
      "source": [
        "p1 = plt.plot(range(len(hist.history['loss'])), hist.history['loss'])\n",
        "p2 = plt.plot(range(len(hist.history['val_loss'])), hist.history['val_loss'])\n",
        "plt.legend(['acc', 'val_acc'])\n",
        "plt.show()"
      ],
      "execution_count": null,
      "outputs": [
        {
          "output_type": "display_data",
          "data": {
            "image/png": "[encoded data removed]",
            "text/plain": [
              "<Figure size 432x288 with 1 Axes>"
            ]
          },
          "metadata": {
            "tags": []
          }
        }
      ]
    },
    {
      "cell_type": "code",
      "metadata": {
        "id": "csEJEPN6AHLH"
      },
      "source": [
        "model_lstm.save('model_lstm.h5')"
      ],
      "execution_count": null,
      "outputs": []
    },
    {
      "cell_type": "code",
      "metadata": {
        "id": "OFcLEoV8MD27"
      },
      "source": [
        "a = \"\"\"I watched a movie today and it was an amazing movie. In it the hero was fighting here and there. I love it.\"\"\"\n",
        "b = \"\"\"I hate that movie as it was pretty boring story. I didn't know what was going on in the movie.\"\"\"\n",
        "\n",
        "a = encoding_and_padding(process_text_data(a))\n",
        "b = encoding_and_padding(process_text_data(b))\n",
        "\n",
        "a = np.expand_dims(np.array(a), axis=0)\n",
        "b = np.expand_dims(np.array(b), axis=0)\n",
        "\n",
        "ar = model_lstm.predict(a)\n",
        "br = model_lstm.predict(b)"
      ],
      "execution_count": null,
      "outputs": []
    },
    {
      "cell_type": "code",
      "metadata": {
        "colab": {
          "base_uri": "https://localhost:8080/"
        },
        "id": "7RG3oqaVNkTJ",
        "outputId": "79ddd575-1e8e-43a0-862e-d6dbeaedaab7"
      },
      "source": [
        "res(ar)"
      ],
      "execution_count": null,
      "outputs": [
        {
          "output_type": "stream",
          "text": [
            "positive\n"
          ],
          "name": "stdout"
        }
      ]
    },
    {
      "cell_type": "code",
      "metadata": {
        "colab": {
          "base_uri": "https://localhost:8080/"
        },
        "id": "CFH2fGeyNla2",
        "outputId": "ac34da38-601b-4036-b1a7-f9eb52675a27"
      },
      "source": [
        "res(br)"
      ],
      "execution_count": null,
      "outputs": [
        {
          "output_type": "stream",
          "text": [
            "negative\n"
          ],
          "name": "stdout"
        }
      ]
    }
  ]
}